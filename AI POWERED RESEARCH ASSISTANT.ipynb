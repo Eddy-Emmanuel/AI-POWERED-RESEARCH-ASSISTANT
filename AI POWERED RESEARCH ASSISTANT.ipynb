{
 "cells": [
  {
   "cell_type": "code",
   "execution_count": 58,
   "id": "cde3e8c4-aa82-4d22-9fb1-996c860669b5",
   "metadata": {},
   "outputs": [],
   "source": [
    "from dotenv import load_dotenv, find_dotenv\n",
    "\n",
    "load_dotenv(find_dotenv())\n",
    "\n",
    "import os\n",
    "from pydantic import BaseModel,Field\n",
    "from typing import TypedDict, Literal\n",
    "\n",
    "from langchain_openai import ChatOpenAI, OpenAIEmbeddings\n",
    "from langchain.agents import AgentExecutor, create_tool_calling_agent\n",
    "from langchain_core.prompts import ChatPromptTemplate, MessagesPlaceholder\n",
    "from langchain_community.utilities.wolfram_alpha import WolframAlphaAPIWrapper\n",
    "from langchain_community.utilities import DuckDuckGoSearchAPIWrapper, OpenWeatherMapAPIWrapper\n",
    "from langchain.tools import Tool, DuckDuckGoSearchResults, WolframAlphaQueryRun, OpenWeatherMapQueryRun\n",
    "\n",
    "from langgraph.graph import StateGraph, START, END\n",
    "\n",
    "from IPython.display import Image, display, Markdown"
   ]
  },
  {
   "cell_type": "code",
   "execution_count": 2,
   "id": "66f74d84-53ba-4b1a-b763-e371df6361a3",
   "metadata": {},
   "outputs": [],
   "source": [
    "os.environ['OPENAI_API_KEY'] = os.getenv(\"OPENAI_API_KEY\")\n",
    "os.environ[\"WOLFRAM_ALPHA_APPID\"] = os.getenv(\"WOLFRAM_ALPHA_APPID\")\n",
    "os.environ[\"OPENWEATHERMAP_API_KEY\"] = os.getenv(\"WeatherAPI\")"
   ]
  },
  {
   "cell_type": "code",
   "execution_count": 39,
   "id": "ecc325ef-11ee-4b58-85e5-49ee8239010d",
   "metadata": {},
   "outputs": [],
   "source": [
    "class AgentSchema(TypedDict):\n",
    "    input_message:str\n",
    "    search_result:str\n",
    "    query_route:str\n",
    "    \n",
    "class AgentSearchRoute(BaseModel):\n",
    "    search_route : Literal[\"news\", \"definitions\", \"weather\", \"stocks\", \"maths\"] = Field(..., description=\"This specifies the category of information the agent should retrieve, such as news updates, word definitions, weather forecasts, stock market data, or shopping results.\")"
   ]
  },
  {
   "cell_type": "code",
   "execution_count": 41,
   "id": "843923d0-2288-4911-afeb-71d9fc67b3fa",
   "metadata": {},
   "outputs": [],
   "source": [
    "class SearchTools:\n",
    "    def __init__(self):\n",
    "        self.llm = ChatOpenAI()\n",
    "        self.general_wrapper = DuckDuckGoSearchAPIWrapper(region=\"wt-wt\", time=\"d\")\n",
    "        self.nigeria_news_wrapper = DuckDuckGoSearchAPIWrapper(region=\"ng-en\", time=\"d\")\n",
    "\n",
    "    def SearchAgent(self, state:AgentSchema):\n",
    "        valid_sources = {\n",
    "            \"news\": (\"the latest news updates from Nigeria\", self.nigeria_news_wrapper),\n",
    "            \"definitions\": (\"word definitions from a dictionary\", self.general_wrapper),\n",
    "            \"stocks\": (\"stock market prices and trends\", self.general_wrapper),\n",
    "            \"shopping\": (\"product search results\", self.nigeria_news_wrapper)\n",
    "        }\n",
    "\n",
    "        description, wrapper = valid_sources[state[\"query_route\"]]\n",
    "        \n",
    "        search = DuckDuckGoSearchResults(api_wrapper=wrapper, \n",
    "                                         source=state[\"query_route\"])\n",
    "\n",
    "        search_tool = Tool(name=f\"{state['query_route']}_search_tool\",\n",
    "                           func=search.run,\n",
    "                           handle_tool_error=True,\n",
    "                           description=f\"Use this tool to search for {description}\")\n",
    "\n",
    "        prompt = ChatPromptTemplate.from_messages([\n",
    "            (\"system\", f\"You are an AI assistant that retrieves {description} and give results based on users query.\"),\n",
    "            MessagesPlaceholder(\"chat_history\", optional=True),\n",
    "            (\"user\", \"{user_input}\"),\n",
    "            MessagesPlaceholder(\"agent_scratchpad\")\n",
    "        ])\n",
    "\n",
    "        agent_with_tool = create_tool_calling_agent(llm=self.llm,  \n",
    "                                                    tools=[search_tool],\n",
    "                                                    prompt=prompt)\n",
    "\n",
    "        \n",
    "        agent_executor = AgentExecutor(name=f\"{state['query_route']}_search_agent\",\n",
    "                                       tools=[search_tool],\n",
    "                                       handle_parsing_errors=True,\n",
    "                                       agent=agent_with_tool)\n",
    "\n",
    "        return {\"search_result\": agent_executor.invoke({\"user_input\":state[\"input_message\"]})[\"output\"]}\n",
    "\n",
    "    def GetWeather(self, state:AgentSchema):\n",
    "        weather_api_wrapper = OpenWeatherMapAPIWrapper()\n",
    "        weather_query_runner = OpenWeatherMapQueryRun(api_wrapper=weather_api_wrapper)\n",
    "        weather_query_tool = Tool(name=\"weather_problem_solver\", \n",
    "                                  func=weather_query_runner.run, \n",
    "                                  description=\"Use this tool to solve weather-related queries with OpenWeatherMap API.\")\n",
    "\n",
    "        weather_prompt_template = ChatPromptTemplate.from_messages([\n",
    "            (\"system\", \"You are an AI assistant that provides weather-related information using OpenWeatherMap API.\"),\n",
    "            MessagesPlaceholder(\"chat_history\", optional=True),\n",
    "            (\"user\", \"{user_input}\"),\n",
    "            MessagesPlaceholder(\"agent_scratchpad\")\n",
    "        ])\n",
    "        \n",
    "        weather_agent_with_tools = create_tool_calling_agent(llm=self.llm,  \n",
    "                                                             # handle_tool_error\n",
    "                                                             tools=[weather_query_tool],\n",
    "                                                             prompt=weather_prompt_template)\n",
    "        \n",
    "        weather_agent_executor = AgentExecutor(name=\"weather_agent\",\n",
    "                                               tools=[weather_query_tool],\n",
    "                                               handle_parsing_errors=True,\n",
    "                                               agent=weather_agent_with_tools)\n",
    "\n",
    "        return {\"search_result\": weather_agent_executor.invoke({\"user_input\": state[\"input_message\"]})}\n",
    "\n",
    "    \n",
    "    def ProblemSolvingAgent(self, state:AgentSchema):\n",
    "        wolframwrapper = WolframAlphaAPIWrapper()\n",
    "        \n",
    "        wolframquery = WolframAlphaQueryRun(api_wrapper=wolframwrapper)\n",
    "        \n",
    "        wolframtool = Tool(name=\"wolfram_problem_solver\", \n",
    "                           func=wolframquery.run, \n",
    "                           description=\"Use this tool to solve mathematical and scientific problems with Wolfram Alpha.\")\n",
    "\n",
    "        prompt = ChatPromptTemplate.from_messages([\n",
    "            (\"system\", \"You are an AI assistant that solves mathematical and scientific problems using Wolfram Alpha.\"),\n",
    "            MessagesPlaceholder(\"chat_history\", optional=True),\n",
    "            (\"user\", \"{user_input}\"),\n",
    "            MessagesPlaceholder(\"agent_scratchpad\")\n",
    "        ])\n",
    "        \n",
    "        agent_with_tool = create_tool_calling_agent(llm=self.llm,  \n",
    "                                                    tools=[wolframtool],\n",
    "                                                    prompt=prompt)\n",
    "        \n",
    "        agent_executor = AgentExecutor(name=\"problem_solving_agent\",\n",
    "                                       tools=[wolframtool],\n",
    "                                       handle_parsing_errors=True,\n",
    "                                       agent=agent_with_tool)\n",
    "\n",
    "        return {\"search_result\": agent_executor.invoke({\"user_input\":state[\"input_message\"]})}\n",
    "\n",
    "    def GetSearchRoute(self, state:AgentSchema):\n",
    "        llm_with_structured_output = self.llm.with_structured_output(AgentSearchRoute)\n",
    "\n",
    "        prompt = ChatPromptTemplate.from_messages([\n",
    "            (\"system\", \"You are an intelligent agent that categorizes user queries into predefined search routes.\"),\n",
    "            (\"user\", \"{user_input}\")\n",
    "        ])\n",
    "\n",
    "        route_chain = prompt | llm_with_structured_output\n",
    "\n",
    "        return {\"query_route\":route_chain.invoke({\"user_input\":state[\"input_message\"]}).search_route}\n",
    "\n",
    "    def NodeCondition(self, state:AgentSchema):\n",
    "        valid_routes = [\"news\", \"definitions\", \"weather\", \"stocks\", \"shopping\"]\n",
    "        \n",
    "        if state[\"query_route\"] in valid_routes:\n",
    "            return state[\"query_route\"]\n",
    "        else:\n",
    "            return \"maths\""
   ]
  },
  {
   "cell_type": "code",
   "execution_count": 43,
   "id": "726ee3cf-ed8c-4285-b860-5f11d690af51",
   "metadata": {},
   "outputs": [],
   "source": [
    "search_tool = SearchTools()"
   ]
  },
  {
   "cell_type": "code",
   "execution_count": 44,
   "id": "d4ef400a-17a1-4418-8037-88786df6e151",
   "metadata": {},
   "outputs": [],
   "source": [
    "# search_tool.GetWeather(state={\"input_message\":\"Current weather in benin today?\"})"
   ]
  },
  {
   "cell_type": "code",
   "execution_count": 49,
   "id": "d586604b-b83e-47aa-8141-e04d688c89ae",
   "metadata": {},
   "outputs": [],
   "source": [
    "bot_workflow = StateGraph(AgentSchema)\n",
    "\n",
    "bot_workflow.add_node(\"SearchAgent\", search_tool.SearchAgent)\n",
    "bot_workflow.add_node(\"ProblemSolvingAgent\", search_tool.ProblemSolvingAgent)\n",
    "bot_workflow.add_node(\"GetSearchRoute\", search_tool.GetSearchRoute)\n",
    "bot_workflow.add_node(\"GetWeather\", search_tool.GetWeather)\n",
    "\n",
    "bot_workflow.add_conditional_edges(\n",
    "    \"GetSearchRoute\",\n",
    "    search_tool.NodeCondition,\n",
    "    {\n",
    "        \"news\": \"SearchAgent\",\n",
    "        \"definitions\": \"SearchAgent\",\n",
    "        \"weather\": \"GetWeather\",\n",
    "        \"stocks\": \"SearchAgent\",\n",
    "        \"maths\": \"ProblemSolvingAgent\"\n",
    "    }\n",
    ")\n",
    "\n",
    "bot_workflow.add_edge(START, \"GetSearchRoute\")\n",
    "bot_workflow.add_edge(\"SearchAgent\", END) \n",
    "bot_workflow.add_edge(\"GetWeather\", END) \n",
    "bot_workflow.add_edge(\"ProblemSolvingAgent\", END)\n",
    "\n",
    "research_assistant = bot_workflow.compile()"
   ]
  },
  {
   "cell_type": "code",
   "execution_count": 51,
   "id": "3180046c-18f9-43bf-8c48-c343c1a172b5",
   "metadata": {},
   "outputs": [
    {
     "data": {
      "image/png": "[encoded data removed]",
      "text/plain": [
       "<IPython.core.display.Image object>"
      ]
     },
     "metadata": {},
     "output_type": "display_data"
    }
   ],
   "source": [
    "display(Image(research_assistant.get_graph().draw_mermaid_png()))"
   ]
  },
  {
   "cell_type": "code",
   "execution_count": 62,
   "id": "b8284793-6e99-4c0d-bca1-a4a18c9c709c",
   "metadata": {},
   "outputs": [
    {
     "name": "stderr",
     "output_type": "stream",
     "text": [
      "C:\\Users\\Eddy\\anaconda3\\envs\\NLP_ENV\\Lib\\site-packages\\langchain_community\\utilities\\duckduckgo_search.py:64: UserWarning: backend='api' is deprecated, using backend='auto'\n",
      "  ddgs_gen = ddgs.text(\n"
     ]
    },
    {
     "data": {
      "text/markdown": [
       "Here are some trending news updates in Lagos:\n",
       "\n",
       "1. **Lagos Takes New Position on Africa Economy Ranking:** Lagos state is making strides in the economy ranking, with the Dangote Refinery pushing the GDP up. [Read more](https://www.legit.ng/business-economy/economy/1645101-lagos-takes-position-africa-economy-ranking-dangote-refinery-pushes-gdp-up/)\n",
       "\n",
       "2. **Death toll in Lagos gas explosion hits five:** The death toll from a gas explosion on the Otedola Bridge along the Lagos-Ibadan Expressway has increased to five. [Read more](https://punchng.com/death-toll-in-lagos-gas-explosion-hits-five/)\n",
       "\n",
       "3. **Court stops public viewing, streaming of 'Gangs of Lagos':** Justice Idowu Alakija of a Lagos High Court has ordered the halt of public viewing and streaming of the film, Gangs of Lagos. [Read more](https://thestreetjournal.org/court-stops-public-viewing-streaming-of-gangs-of-lagos/)"
      ],
      "text/plain": [
       "<IPython.core.display.Markdown object>"
      ]
     },
     "execution_count": 62,
     "metadata": {},
     "output_type": "execute_result"
    }
   ],
   "source": [
    "Markdown(research_assistant.invoke({\"input_message\":\"trendings news in lagos\"})[\"search_result\"])"
   ]
  }
 ],
 "metadata": {
  "kernelspec": {
   "display_name": "Python [conda env:NLP_ENV]",
   "language": "python",
   "name": "conda-env-NLP_ENV-py"
  },
  "language_info": {
   "codemirror_mode": {
    "name": "ipython",
    "version": 3
   },
   "file_extension": ".py",
   "mimetype": "text/x-python",
   "name": "python",
   "nbconvert_exporter": "python",
   "pygments_lexer": "ipython3",
   "version": "3.11.11"
  }
 },
 "nbformat": 4,
 "nbformat_minor": 5
}
